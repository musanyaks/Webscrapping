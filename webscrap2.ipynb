{
 "cells": [
  {
   "cell_type": "markdown",
   "metadata": {},
   "source": [
    "# Webscrapping using pyrthon."
   ]
  },
  {
   "cell_type": "code",
   "execution_count": 1,
   "metadata": {},
   "outputs": [],
   "source": [
    "import requests #library to get url"
   ]
  },
  {
   "cell_type": "code",
   "execution_count": 2,
   "metadata": {},
   "outputs": [],
   "source": [
    "from bs4 import BeautifulSoup #library to handle html"
   ]
  },
  {
   "cell_type": "code",
   "execution_count": 3,
   "metadata": {},
   "outputs": [],
   "source": [
    "import time "
   ]
  },
  {
   "cell_type": "code",
   "execution_count": 4,
   "metadata": {},
   "outputs": [],
   "source": [
    "time.sleep(1) #to avoid spamming"
   ]
  },
  {
   "cell_type": "code",
   "execution_count": null,
   "metadata": {},
   "outputs": [],
   "source": [
    "# Parse HTML and save to BeautifulSoup object\n",
    "soup = BeautifulSoup(response.text, \"html.parser\")"
   ]
  },
  {
   "cell_type": "code",
   "execution_count": 7,
   "metadata": {},
   "outputs": [],
   "source": [
    "import requests\n",
    "from bs4 import BeautifulSoup\n",
    "import re"
   ]
  },
  {
   "cell_type": "code",
   "execution_count": 9,
   "metadata": {},
   "outputs": [],
   "source": [
    "time.sleep(1)"
   ]
  },
  {
   "cell_type": "code",
   "execution_count": 67,
   "metadata": {},
   "outputs": [],
   "source": [
    "all = soup.find(\"div\", {\"class\": \"name\"})"
   ]
  },
  {
   "cell_type": "code",
   "execution_count": 73,
   "metadata": {},
   "outputs": [],
   "source": [
    "#first page handling\n",
    "N = requests.get(\"your site to scrap\")"
   ]
  },
  {
   "cell_type": "code",
   "execution_count": 74,
   "metadata": {},
   "outputs": [],
   "source": [
    "#get content of the page\n",
    "c = N.content"
   ]
  },
  {
   "cell_type": "code",
   "execution_count": 76,
   "metadata": {},
   "outputs": [],
   "source": [
    "#change to handle html\n",
    "Soup = BeautifulSoup(c, \"html.parser\")"
   ]
  },
  {
   "cell_type": "code",
   "execution_count": 77,
   "metadata": {},
   "outputs": [],
   "source": [
    "peo = Soup.find_all(\"div\", {\"class\":\"info\"})#getting information of phone and specifications"
   ]
  },
  {
   "cell_type": "code",
   "execution_count": 80,
   "metadata": {},
   "outputs": [
    {
     "data": {
      "text/plain": [
       "'Tecno  POP 3, 5.7\", 16GB + 1GB, Dual Sim, Black'"
      ]
     },
     "execution_count": 80,
     "metadata": {},
     "output_type": "execute_result"
    }
   ],
   "source": [
    "peo[0].find(\"h3\",{\"class\":\"name\"}).text#print the text with no tag"
   ]
  },
  {
   "cell_type": "code",
   "execution_count": null,
   "metadata": {},
   "outputs": [],
   "source": [
    "#the whole scrapping \n",
    "#6 website pages\n",
    "m = []\n",
    "url = \"site to scrap\"#website\n",
    "for page in range (1,7,1):#number of pages\n",
    "    print(url + str(page))\n",
    "    r=requests.get(url + str(page))\n",
    "    c = r.content\n",
    "    soup = BeautifulSoup(c, \"html.parser\")\n",
    "    peo = soup.find_all(\"div\", {\"class\":\"info\"})\n",
    "    for item in peo:\n",
    "        D = {}\n",
    "        try:\n",
    "            D[\"NameSpe\"]=item.find(\"h3\",{\"class\":\"name\"}).text\n",
    "        except:\n",
    "            D[\"NameSpe\"]=None\n",
    "        try:\n",
    "            D[\"Price\"]=item.find(\"div\",{\"class\":\"prc\"}).text#price of the phone\n",
    "        except:\n",
    "            D[\"Price\"] = None\n",
    "        try:\n",
    "            D[\"OldP\"]=item.find(\"div\",{\"class\":\"old\"}).text#old price of the phone\n",
    "        except:\n",
    "            D[\"oldP\"]=None\n",
    "        try:\n",
    "            D[\"Discount\"]=item.find(\"div\",{\"class\":\"tag _dsct _sm\"}).text#discount\n",
    "        except:\n",
    "            D[\"Discount\"]=None\n",
    "        try:\n",
    "            D[\"RatNo\"]=item.find(\"div\",{\"class\":\"rev\"}).text#rating and number of people who wrote the rate in bracket\n",
    "        except:\n",
    "            D[\"RatNo\"]=None\n",
    "        print(\" \")\n",
    "        m.append(D)\n",
    "\n",
    "    \n",
    "    \n",
    "    \n",
    "    \n",
    "    \n",
    "\n",
    "len(m)\n",
    "\n",
    "#convert to data frame\n",
    "import pandas\n",
    "df = pandas.DataFrame(m)"
   ]
  },
  {
   "cell_type": "code",
   "execution_count": 123,
   "metadata": {},
   "outputs": [
    {
     "data": {
      "text/html": [
       "<div>\n",
       "<style scoped>\n",
       "    .dataframe tbody tr th:only-of-type {\n",
       "        vertical-align: middle;\n",
       "    }\n",
       "\n",
       "    .dataframe tbody tr th {\n",
       "        vertical-align: top;\n",
       "    }\n",
       "\n",
       "    .dataframe thead th {\n",
       "        text-align: right;\n",
       "    }\n",
       "</style>\n",
       "<table border=\"1\" class=\"dataframe\">\n",
       "  <thead>\n",
       "    <tr style=\"text-align: right;\">\n",
       "      <th></th>\n",
       "      <th>NameSpe</th>\n",
       "      <th>Price</th>\n",
       "      <th>OldP</th>\n",
       "      <th>Discount</th>\n",
       "      <th>RatNo</th>\n",
       "      <th>oldP</th>\n",
       "    </tr>\n",
       "  </thead>\n",
       "  <tbody>\n",
       "    <tr>\n",
       "      <th>0</th>\n",
       "      <td>Tecno  POP 3, 5.7\", 16GB + 1GB, Dual Sim, Black</td>\n",
       "      <td>KSh 7,047</td>\n",
       "      <td>KSh 12,500</td>\n",
       "      <td>44%</td>\n",
       "      <td>3.8 out of 5(31)</td>\n",
       "      <td>NaN</td>\n",
       "    </tr>\n",
       "    <tr>\n",
       "      <th>1</th>\n",
       "      <td>Ulefone Note 7, 6.1\", 1GB + 16GB, 3500mAh, (Du...</td>\n",
       "      <td>KSh 5,499</td>\n",
       "      <td>KSh 6,499</td>\n",
       "      <td>15%</td>\n",
       "      <td>4.1 out of 5(970)</td>\n",
       "      <td>NaN</td>\n",
       "    </tr>\n",
       "    <tr>\n",
       "      <th>2</th>\n",
       "      <td>UMIDIGI A7-4GB+64GB-6.49''-Android 10-16MP+8MP...</td>\n",
       "      <td>KSh 10,500</td>\n",
       "      <td>KSh 10,600</td>\n",
       "      <td>1%</td>\n",
       "      <td>4.5 out of 5(14)</td>\n",
       "      <td>NaN</td>\n",
       "    </tr>\n",
       "    <tr>\n",
       "      <th>3</th>\n",
       "      <td>Ulefone Note 7 Pro, 6.1\" HD, 3GB +32GB (Dual S...</td>\n",
       "      <td>KSh 7,499</td>\n",
       "      <td>KSh 11,499</td>\n",
       "      <td>35%</td>\n",
       "      <td>4.3 out of 5(732)</td>\n",
       "      <td>NaN</td>\n",
       "    </tr>\n",
       "    <tr>\n",
       "      <th>4</th>\n",
       "      <td>Ulefone Note 7, 6.1 Inches, 1GB + 16GB (Dual S...</td>\n",
       "      <td>KSh 5,499</td>\n",
       "      <td>KSh 6,499</td>\n",
       "      <td>15%</td>\n",
       "      <td>4.2 out of 5(852)</td>\n",
       "      <td>NaN</td>\n",
       "    </tr>\n",
       "    <tr>\n",
       "      <th>...</th>\n",
       "      <td>...</td>\n",
       "      <td>...</td>\n",
       "      <td>...</td>\n",
       "      <td>...</td>\n",
       "      <td>...</td>\n",
       "      <td>...</td>\n",
       "    </tr>\n",
       "    <tr>\n",
       "      <th>283</th>\n",
       "      <td></td>\n",
       "      <td></td>\n",
       "      <td>NaN</td>\n",
       "      <td>None</td>\n",
       "      <td>None</td>\n",
       "      <td>NaN</td>\n",
       "    </tr>\n",
       "    <tr>\n",
       "      <th>284</th>\n",
       "      <td></td>\n",
       "      <td></td>\n",
       "      <td>NaN</td>\n",
       "      <td>None</td>\n",
       "      <td>None</td>\n",
       "      <td>NaN</td>\n",
       "    </tr>\n",
       "    <tr>\n",
       "      <th>285</th>\n",
       "      <td></td>\n",
       "      <td></td>\n",
       "      <td>NaN</td>\n",
       "      <td>None</td>\n",
       "      <td>None</td>\n",
       "      <td>NaN</td>\n",
       "    </tr>\n",
       "    <tr>\n",
       "      <th>286</th>\n",
       "      <td></td>\n",
       "      <td></td>\n",
       "      <td>NaN</td>\n",
       "      <td>None</td>\n",
       "      <td>None</td>\n",
       "      <td>NaN</td>\n",
       "    </tr>\n",
       "    <tr>\n",
       "      <th>287</th>\n",
       "      <td></td>\n",
       "      <td></td>\n",
       "      <td>NaN</td>\n",
       "      <td>None</td>\n",
       "      <td>None</td>\n",
       "      <td>NaN</td>\n",
       "    </tr>\n",
       "  </tbody>\n",
       "</table>\n",
       "<p>288 rows × 6 columns</p>\n",
       "</div>"
      ],
      "text/plain": [
       "                                               NameSpe       Price  \\\n",
       "0      Tecno  POP 3, 5.7\", 16GB + 1GB, Dual Sim, Black   KSh 7,047   \n",
       "1    Ulefone Note 7, 6.1\", 1GB + 16GB, 3500mAh, (Du...   KSh 5,499   \n",
       "2    UMIDIGI A7-4GB+64GB-6.49''-Android 10-16MP+8MP...  KSh 10,500   \n",
       "3    Ulefone Note 7 Pro, 6.1\" HD, 3GB +32GB (Dual S...   KSh 7,499   \n",
       "4    Ulefone Note 7, 6.1 Inches, 1GB + 16GB (Dual S...   KSh 5,499   \n",
       "..                                                 ...         ...   \n",
       "283                                                                  \n",
       "284                                                                  \n",
       "285                                                                  \n",
       "286                                                                  \n",
       "287                                                                  \n",
       "\n",
       "           OldP Discount              RatNo  oldP  \n",
       "0    KSh 12,500      44%   3.8 out of 5(31)   NaN  \n",
       "1     KSh 6,499      15%  4.1 out of 5(970)   NaN  \n",
       "2    KSh 10,600       1%   4.5 out of 5(14)   NaN  \n",
       "3    KSh 11,499      35%  4.3 out of 5(732)   NaN  \n",
       "4     KSh 6,499      15%  4.2 out of 5(852)   NaN  \n",
       "..          ...      ...                ...   ...  \n",
       "283         NaN     None               None   NaN  \n",
       "284         NaN     None               None   NaN  \n",
       "285         NaN     None               None   NaN  \n",
       "286         NaN     None               None   NaN  \n",
       "287         NaN     None               None   NaN  \n",
       "\n",
       "[288 rows x 6 columns]"
      ]
     },
     "execution_count": 123,
     "metadata": {},
     "output_type": "execute_result"
    }
   ],
   "source": [
    "df"
   ]
  },
  {
   "cell_type": "code",
   "execution_count": 119,
   "metadata": {},
   "outputs": [],
   "source": [
    "#save as csv\n",
    "df.to_csv(\"phonez.csv\")"
   ]
  },
  {
   "cell_type": "code",
   "execution_count": 124,
   "metadata": {},
   "outputs": [],
   "source": [
    "df.to_csv(\"full_phones.cvs\")"
   ]
  }
 ],
 "metadata": {
  "kernelspec": {
   "display_name": "Python 3",
   "language": "python",
   "name": "python3"
  },
  "language_info": {
   "codemirror_mode": {
    "name": "ipython",
    "version": 3
   },
   "file_extension": ".py",
   "mimetype": "text/x-python",
   "name": "python",
   "nbconvert_exporter": "python",
   "pygments_lexer": "ipython3",
   "version": "3.7.6"
  }
 },
 "nbformat": 4,
 "nbformat_minor": 4
}
